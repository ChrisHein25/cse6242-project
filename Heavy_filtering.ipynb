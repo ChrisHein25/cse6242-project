{
 "cells": [
  {
   "cell_type": "code",
   "execution_count": 314,
   "metadata": {},
   "outputs": [],
   "source": [
    "import pandas as pd,numpy"
   ]
  },
  {
   "cell_type": "code",
   "execution_count": 315,
   "metadata": {},
   "outputs": [],
   "source": [
    "df = pd.read_csv(\"all_seasons.csv\") \n",
    "df1 = pd.read_csv(\"injuries_2010-2020.csv\") "
   ]
  },
  {
   "cell_type": "code",
   "execution_count": 316,
   "metadata": {},
   "outputs": [],
   "source": [
    "df1['date1']=pd.to_datetime(df1['Date'], format='%Y-%m-%d') #Converting Date column to Datetimetype\n",
    "df1=df1.drop(columns=['Date'])                              #Dropping original columns\n",
    "df1['year'] = pd.DatetimeIndex(df1['date1']).year           #Seperating year from date\n",
    "df1= df1.rename(columns={\"year\": \"Season\"})\n",
    "df['Season'] = df['season'].str[:4]                         #Renaming year as Season\n",
    "df=df.astype({\"Season\": int })                               \n",
    "df_filter1 = df[['player_name','player_height','player_weight','age','Season']]     #filtering out necessary parameters\n",
    "df_filter1 = df_filter1.rename(columns={\"player_name\": \"player_name\"})        \n",
    "#df1_filter1 = df1.rename(columns={\"Relinquished\": \"player_name_r\"})\n",
    "#df1_filter2 = df1_filter1[df1_filter1['player_name_r'].notna()]"
   ]
  },
  {
   "cell_type": "code",
   "execution_count": 317,
   "metadata": {},
   "outputs": [],
   "source": [
    "df1[\"player_name\"] = df1[\"Acquired\"].combine_first(df1[\"Relinquished\"]) #constructing player name from combining acquired and Relinquished"
   ]
  },
  {
   "cell_type": "code",
   "execution_count": 318,
   "metadata": {},
   "outputs": [],
   "source": [
    "merge1 = pd.merge(df1,df_filter1,on=['player_name','Season'])   #merging the injury and player Bio based on player_name and Season"
   ]
  },
  {
   "cell_type": "code",
   "execution_count": 319,
   "metadata": {},
   "outputs": [],
   "source": [
    "merge1= merge1[~(merge1['Notes'] == \"placed on IL\")]        #removing the entries which contain placed on IL"
   ]
  },
  {
   "cell_type": "code",
   "execution_count": 320,
   "metadata": {},
   "outputs": [],
   "source": [
    "merge1=merge1.drop(['Acquired', 'Relinquished'], axis=1)   #dropping acquired and relinquished since we already obtained player name by combining them"
   ]
  },
  {
   "cell_type": "code",
   "execution_count": 321,
   "metadata": {},
   "outputs": [],
   "source": [
    "merge1 = merge1.sort_values(by=['player_name','date1'])    #sorting the data by player name and date"
   ]
  },
  {
   "cell_type": "code",
   "execution_count": 322,
   "metadata": {},
   "outputs": [],
   "source": [
    "merge1 = merge1[~merge1['Notes'].str.contains(\"activat\")]  #removing rows containing \"Activated\" since those are not injuries"
   ]
  },
  {
   "cell_type": "code",
   "execution_count": 323,
   "metadata": {},
   "outputs": [],
   "source": [
    "merge1= merge1[~(merge1['Notes'] == \"placed on IL\")]           \n",
    "merge1= merge1[~(merge1['Notes'] == \"returned to lineup\")]  #removing the entries which say returned to lineup\n"
   ]
  },
  {
   "cell_type": "code",
   "execution_count": 324,
   "metadata": {},
   "outputs": [],
   "source": [
    "searchfor = ['flu','illness','COVID']       #removing some entries which contain specific words as those cannot be classified as injuries\n",
    "merge1 = merge1[~merge1.Notes.str.contains('|'.join(searchfor))]"
   ]
  },
  {
   "cell_type": "code",
   "execution_count": 325,
   "metadata": {},
   "outputs": [],
   "source": [
    "merge1['Notes'] = merge1['Notes'].str.replace(r'(DNP)','').replace(r'(DTD)','')  #removing (DNP) and (DTD) from entries to bring similarity between string\n",
    "merge1['Notes'] =merge1['Notes'].str.replace(r\" \\(.*\\)\",\"\")        #removing unnecessary special characters\n"
   ]
  },
  {
   "cell_type": "code",
   "execution_count": 326,
   "metadata": {},
   "outputs": [],
   "source": [
    "merge1['Previous_entry'] = merge1.groupby('player_name')['Notes'].shift(1)      #shifting player name\n",
    "merge1['Previous_date'] = merge1.groupby('player_name')['date1'].shift(1)       #shifting date of previous row for comparison purposes"
   ]
  },
  {
   "cell_type": "code",
   "execution_count": 327,
   "metadata": {},
   "outputs": [],
   "source": [
    "merge1['Difference'] = merge1['date1'].sub(merge1['Previous_date'], axis=0)  #creating a difference column to get the difference in days between two entries"
   ]
  },
  {
   "cell_type": "code",
   "execution_count": 328,
   "metadata": {},
   "outputs": [],
   "source": [
    "merge1['Difference']=merge1['Difference'].fillna(pd.Timedelta(seconds=0))   #obtaining the difference in days\n"
   ]
  },
  {
   "cell_type": "code",
   "execution_count": 329,
   "metadata": {},
   "outputs": [],
   "source": [
    "merge1['Difference'] = merge1['Difference'].dt.days.astype('int16')   #converting difference to integer for easier comparison"
   ]
  },
  {
   "cell_type": "code",
   "execution_count": 330,
   "metadata": {},
   "outputs": [],
   "source": [
    "merge1['Deletion_status']= (merge1.Previous_entry.isin(merge1.Notes)) & (merge1['Difference']<=5)  #delete if Previous entry contains current entry and time difference is less than 5 days(refers to the same injury)          \n",
    "merge1 = merge1[merge1.Deletion_status != True] "
   ]
  },
  {
   "cell_type": "code",
   "execution_count": 331,
   "metadata": {},
   "outputs": [],
   "source": [
    "#rearranging the data to make it presentable\n",
    "\n",
    "merge1.drop(['Deletion_status','Previous_entry','Previous_date','Difference'],axis=1,inplace=True) \n",
    "merge1=merge1.reset_index(drop=True)\n",
    "merge1=merge1.rename(columns={\"date1\": \"Date\"})\n",
    "merge1=merge1.rename(columns={\"player_name\": \"Player_Name\"})\n",
    "merge1 =merge1[['Team','Date','Player_Name', 'Notes','Season','player_height','player_weight','age']]"
   ]
  },
  {
   "cell_type": "code",
   "execution_count": 332,
   "metadata": {},
   "outputs": [
    {
     "data": {
      "text/html": [
       "<div>\n",
       "<style scoped>\n",
       "    .dataframe tbody tr th:only-of-type {\n",
       "        vertical-align: middle;\n",
       "    }\n",
       "\n",
       "    .dataframe tbody tr th {\n",
       "        vertical-align: top;\n",
       "    }\n",
       "\n",
       "    .dataframe thead th {\n",
       "        text-align: right;\n",
       "    }\n",
       "</style>\n",
       "<table border=\"1\" class=\"dataframe\">\n",
       "  <thead>\n",
       "    <tr style=\"text-align: right;\">\n",
       "      <th></th>\n",
       "      <th>Team</th>\n",
       "      <th>Date</th>\n",
       "      <th>Player_Name</th>\n",
       "      <th>Notes</th>\n",
       "      <th>Season</th>\n",
       "      <th>player_height</th>\n",
       "      <th>player_weight</th>\n",
       "      <th>age</th>\n",
       "    </tr>\n",
       "  </thead>\n",
       "  <tbody>\n",
       "    <tr>\n",
       "      <th>0</th>\n",
       "      <td>Rockets</td>\n",
       "      <td>2010-11-07</td>\n",
       "      <td>Aaron Brooks</td>\n",
       "      <td>placed on IL with sprained left ankle</td>\n",
       "      <td>2010</td>\n",
       "      <td>182.88</td>\n",
       "      <td>73.028312</td>\n",
       "      <td>26.0</td>\n",
       "    </tr>\n",
       "    <tr>\n",
       "      <th>1</th>\n",
       "      <td>Kings</td>\n",
       "      <td>2012-12-30</td>\n",
       "      <td>Aaron Brooks</td>\n",
       "      <td>sore left ankle</td>\n",
       "      <td>2012</td>\n",
       "      <td>182.88</td>\n",
       "      <td>73.028312</td>\n",
       "      <td>28.0</td>\n",
       "    </tr>\n",
       "    <tr>\n",
       "      <th>2</th>\n",
       "      <td>Rockets</td>\n",
       "      <td>2014-01-15</td>\n",
       "      <td>Aaron Brooks</td>\n",
       "      <td>tendinitis in knee</td>\n",
       "      <td>2014</td>\n",
       "      <td>182.88</td>\n",
       "      <td>73.028312</td>\n",
       "      <td>30.0</td>\n",
       "    </tr>\n",
       "    <tr>\n",
       "      <th>3</th>\n",
       "      <td>Bulls</td>\n",
       "      <td>2015-11-19</td>\n",
       "      <td>Aaron Brooks</td>\n",
       "      <td>strained left hamstring</td>\n",
       "      <td>2015</td>\n",
       "      <td>182.88</td>\n",
       "      <td>73.028312</td>\n",
       "      <td>31.0</td>\n",
       "    </tr>\n",
       "    <tr>\n",
       "      <th>4</th>\n",
       "      <td>Bulls</td>\n",
       "      <td>2015-12-05</td>\n",
       "      <td>Aaron Brooks</td>\n",
       "      <td>strained left hamstring</td>\n",
       "      <td>2015</td>\n",
       "      <td>182.88</td>\n",
       "      <td>73.028312</td>\n",
       "      <td>31.0</td>\n",
       "    </tr>\n",
       "    <tr>\n",
       "      <th>...</th>\n",
       "      <td>...</td>\n",
       "      <td>...</td>\n",
       "      <td>...</td>\n",
       "      <td>...</td>\n",
       "      <td>...</td>\n",
       "      <td>...</td>\n",
       "      <td>...</td>\n",
       "      <td>...</td>\n",
       "    </tr>\n",
       "    <tr>\n",
       "      <th>7013</th>\n",
       "      <td>76ers</td>\n",
       "      <td>2019-04-29</td>\n",
       "      <td>Zhaire Smith</td>\n",
       "      <td>placed on IL</td>\n",
       "      <td>2019</td>\n",
       "      <td>190.50</td>\n",
       "      <td>92.986360</td>\n",
       "      <td>21.0</td>\n",
       "    </tr>\n",
       "    <tr>\n",
       "      <th>7014</th>\n",
       "      <td>76ers</td>\n",
       "      <td>2019-12-08</td>\n",
       "      <td>Zhaire Smith</td>\n",
       "      <td>right leg injury</td>\n",
       "      <td>2019</td>\n",
       "      <td>190.50</td>\n",
       "      <td>92.986360</td>\n",
       "      <td>21.0</td>\n",
       "    </tr>\n",
       "    <tr>\n",
       "      <th>7015</th>\n",
       "      <td>Pelicans</td>\n",
       "      <td>2019-10-18</td>\n",
       "      <td>Zion Williamson</td>\n",
       "      <td>torn meniscus in right knee</td>\n",
       "      <td>2019</td>\n",
       "      <td>198.12</td>\n",
       "      <td>128.820128</td>\n",
       "      <td>19.0</td>\n",
       "    </tr>\n",
       "    <tr>\n",
       "      <th>7016</th>\n",
       "      <td>Pelicans</td>\n",
       "      <td>2020-02-08</td>\n",
       "      <td>Zion Williamson</td>\n",
       "      <td>sprained left ankle</td>\n",
       "      <td>2020</td>\n",
       "      <td>200.66</td>\n",
       "      <td>128.820128</td>\n",
       "      <td>20.0</td>\n",
       "    </tr>\n",
       "    <tr>\n",
       "      <th>7017</th>\n",
       "      <td>Pelicans</td>\n",
       "      <td>2020-08-10</td>\n",
       "      <td>Zion Williamson</td>\n",
       "      <td>placed on IL with sore right knee</td>\n",
       "      <td>2020</td>\n",
       "      <td>200.66</td>\n",
       "      <td>128.820128</td>\n",
       "      <td>20.0</td>\n",
       "    </tr>\n",
       "  </tbody>\n",
       "</table>\n",
       "<p>7018 rows × 8 columns</p>\n",
       "</div>"
      ],
      "text/plain": [
       "          Team       Date      Player_Name  \\\n",
       "0      Rockets 2010-11-07     Aaron Brooks   \n",
       "1        Kings 2012-12-30     Aaron Brooks   \n",
       "2      Rockets 2014-01-15     Aaron Brooks   \n",
       "3        Bulls 2015-11-19     Aaron Brooks   \n",
       "4        Bulls 2015-12-05     Aaron Brooks   \n",
       "...        ...        ...              ...   \n",
       "7013     76ers 2019-04-29     Zhaire Smith   \n",
       "7014     76ers 2019-12-08     Zhaire Smith   \n",
       "7015  Pelicans 2019-10-18  Zion Williamson   \n",
       "7016  Pelicans 2020-02-08  Zion Williamson   \n",
       "7017  Pelicans 2020-08-10  Zion Williamson   \n",
       "\n",
       "                                      Notes  Season  player_height  \\\n",
       "0     placed on IL with sprained left ankle    2010         182.88   \n",
       "1                           sore left ankle    2012         182.88   \n",
       "2                        tendinitis in knee    2014         182.88   \n",
       "3                   strained left hamstring    2015         182.88   \n",
       "4                   strained left hamstring    2015         182.88   \n",
       "...                                     ...     ...            ...   \n",
       "7013                           placed on IL    2019         190.50   \n",
       "7014                       right leg injury    2019         190.50   \n",
       "7015            torn meniscus in right knee    2019         198.12   \n",
       "7016                    sprained left ankle    2020         200.66   \n",
       "7017      placed on IL with sore right knee    2020         200.66   \n",
       "\n",
       "      player_weight   age  \n",
       "0         73.028312  26.0  \n",
       "1         73.028312  28.0  \n",
       "2         73.028312  30.0  \n",
       "3         73.028312  31.0  \n",
       "4         73.028312  31.0  \n",
       "...             ...   ...  \n",
       "7013      92.986360  21.0  \n",
       "7014      92.986360  21.0  \n",
       "7015     128.820128  19.0  \n",
       "7016     128.820128  20.0  \n",
       "7017     128.820128  20.0  \n",
       "\n",
       "[7018 rows x 8 columns]"
      ]
     },
     "execution_count": 332,
     "metadata": {},
     "output_type": "execute_result"
    }
   ],
   "source": [
    "merge1"
   ]
  },
  {
   "cell_type": "code",
   "execution_count": 333,
   "metadata": {},
   "outputs": [],
   "source": [
    "merge1.to_csv('injury_heavy_filtered.csv', index=False) #converting dataframe to csv"
   ]
  },
  {
   "cell_type": "code",
   "execution_count": null,
   "metadata": {},
   "outputs": [],
   "source": []
  }
 ],
 "metadata": {
  "kernelspec": {
   "display_name": "Python 3",
   "language": "python",
   "name": "python3"
  },
  "language_info": {
   "codemirror_mode": {
    "name": "ipython",
    "version": 3
   },
   "file_extension": ".py",
   "mimetype": "text/x-python",
   "name": "python",
   "nbconvert_exporter": "python",
   "pygments_lexer": "ipython3",
   "version": "3.8.3"
  }
 },
 "nbformat": 4,
 "nbformat_minor": 4
}
