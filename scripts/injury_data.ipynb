{
 "cells": [
  {
   "cell_type": "code",
   "execution_count": 6,
   "metadata": {},
   "outputs": [
    {
     "name": "stdout",
     "output_type": "stream",
     "text": [
      "Original rows: 27103\n"
     ]
    }
   ],
   "source": [
    "# CSE 6242 Group 9 Project\n",
    "# Python script to access injury timeseries data in text format build a db where every unique injury occurance is an individual row\n",
    "\n",
    "import pandas as pd\n",
    "import os\n",
    "import re\n",
    "\n",
    "cwd = os.getcwd()\n",
    "csv_path = cwd + \"/output_data\"\n",
    "\n",
    "# 0. Import data, do basic cleaning, and cast columns\n",
    "df = pd.read_csv(\"input_data/injuries_2010-2020.csv\")\n",
    "df['Date'] = pd.to_datetime(df['Date'])\n",
    "df = df.drop_duplicates()\n",
    "print('Original rows: '+str(len(df)))"
   ]
  },
  {
   "cell_type": "code",
   "execution_count": 7,
   "metadata": {},
   "outputs": [
    {
     "name": "stdout",
     "output_type": "stream",
     "text": [
      "Rows after 1: 17562\n",
      "Rows after 2: 17560\n"
     ]
    }
   ],
   "source": [
    "# 1. Drop where Acquired not NAN\n",
    "df = df[~df['Acquired'].notna()]\n",
    "print('Rows after 1: '+str(len(df)))\n",
    "\n",
    "# 2. Drop Acquired column, rename Relinquished to Player, then drop any row with mention of 'activat'\n",
    "df = df.drop(columns=['Acquired'])\n",
    "df = df.rename(columns={\"Relinquished\": \"Player\"})\n",
    "df = df[~df['Notes'].str.contains(\"activat\")]\n",
    "print('Rows after 2: '+str(len(df))) # at this point all return to IL type entries should be removed\n",
    "\n",
    "# 3. Order by player, then date to see each player's timeline\n",
    "df = df.sort_values(by=['Player', 'Date'])\n",
    "df.to_csv(csv_path+\"/injury_temp.csv\", index=False)"
   ]
  },
  {
   "cell_type": "code",
   "execution_count": 16,
   "metadata": {},
   "outputs": [
    {
     "name": "stdout",
     "output_type": "stream",
     "text": [
      "Rows after 4: 15839\n",
      "            Date   Team              Player  \\\n",
      "0     2013-03-01  Hawks          Mike Scott   \n",
      "1     2014-11-12  Hawks          Mike Scott   \n",
      "3     2015-03-13  Hawks          Mike Scott   \n",
      "4     2015-04-15  Hawks          Mike Scott   \n",
      "5     2015-12-09  Hawks          Mike Scott   \n",
      "...          ...    ...                 ...   \n",
      "17553 2015-02-02   Suns        Zoran Dragic   \n",
      "17554 2015-03-09   Heat        Zoran Dragic   \n",
      "17556 2011-05-15   Heat  Zydrunas Ilgauskas   \n",
      "17557 2011-05-31   Heat  Zydrunas Ilgauskas   \n",
      "17558 2018-12-19  Bucks                 NaN   \n",
      "\n",
      "                                          Notes    type  \\\n",
      "0                                  placed on IL  injury   \n",
      "1                 placed on IL with back injury  injury   \n",
      "3      placed on IL with fractured left big toe  injury   \n",
      "4                 placed on IL with back injury  injury   \n",
      "5                             knee injury (DTD)  injury   \n",
      "...                                         ...     ...   \n",
      "17553                              placed on IL  injury   \n",
      "17554                              placed on IL  injury   \n",
      "17556                              placed on IL  injury   \n",
      "17557                              placed on IL  injury   \n",
      "17558                              placed on IL  injury   \n",
      "\n",
      "                                            lag  \n",
      "0                                           NaN  \n",
      "1                                  placed on IL  \n",
      "3                 placed on IL with back injury  \n",
      "4      placed on IL with fractured left big toe  \n",
      "5                 placed on IL with back injury  \n",
      "...                                         ...  \n",
      "17553                              placed on IL  \n",
      "17554                              placed on IL  \n",
      "17556                              placed on IL  \n",
      "17557                              placed on IL  \n",
      "17558                              placed on IL  \n",
      "\n",
      "[15839 rows x 6 columns]\n"
     ]
    }
   ],
   "source": [
    "# 4. Apply Maggie's OpenRefine logic to categorize into Injury, Illness, or Rest (sickness, etc) then re-read file\n",
    "df = pd.read_csv(\"output_data/injury_temp2.csv\")\n",
    "df['Date'] = pd.to_datetime(df['Date'])\n",
    "df = df.drop_duplicates()\n",
    "df = df = df[df['type'] == 'injury'] # only select injuries\n",
    "print('Rows after 4: '+str(len(df)))\n",
    "\n",
    "# 5. Apply algorithm to check for repeat or near entries\n",
    "\n",
    "# Rules:\n",
    "# - If dates are less than 5 days apart, only take the column without \n",
    "\n",
    "df[\"lag\"] = df['Notes'].shift(1)\n",
    "print(df)\n"
   ]
  },
  {
   "cell_type": "code",
   "execution_count": null,
   "metadata": {},
   "outputs": [],
   "source": []
  }
 ],
 "metadata": {
  "kernelspec": {
   "display_name": "Python 3",
   "language": "python",
   "name": "python3"
  },
  "language_info": {
   "codemirror_mode": {
    "name": "ipython",
    "version": 3
   },
   "file_extension": ".py",
   "mimetype": "text/x-python",
   "name": "python",
   "nbconvert_exporter": "python",
   "pygments_lexer": "ipython3",
   "version": "3.8.5"
  }
 },
 "nbformat": 4,
 "nbformat_minor": 4
}
